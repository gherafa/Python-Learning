{
 "cells": [
  {
   "cell_type": "code",
   "execution_count": 19,
   "metadata": {},
   "outputs": [],
   "source": [
    "#BASIC LIST EDITING"
   ]
  },
  {
   "cell_type": "code",
   "execution_count": 1,
   "metadata": {},
   "outputs": [
    {
     "name": "stdout",
     "output_type": "stream",
     "text": [
      "[]\n"
     ]
    }
   ],
   "source": [
    "emptylist = []\n",
    "\n",
    "print(emptylist)"
   ]
  },
  {
   "cell_type": "code",
   "execution_count": 2,
   "metadata": {},
   "outputs": [
    {
     "name": "stdout",
     "output_type": "stream",
     "text": [
      "[1, 2, 3, 4, 5, 6]\n"
     ]
    }
   ],
   "source": [
    "#integer list\n",
    "ints = [1,2,3,4,5,6]\n",
    "\n",
    "print(ints)"
   ]
  },
  {
   "cell_type": "code",
   "execution_count": 3,
   "metadata": {},
   "outputs": [
    {
     "name": "stdout",
     "output_type": "stream",
     "text": [
      "[1.0, 2.0, 3.0, 4.0, 5.0]\n"
     ]
    }
   ],
   "source": [
    "#floats list\n",
    "nums = [1.,2.,3.,4.,5.,]\n",
    "\n",
    "print(nums)"
   ]
  },
  {
   "cell_type": "code",
   "execution_count": 4,
   "metadata": {},
   "outputs": [
    {
     "name": "stdout",
     "output_type": "stream",
     "text": [
      "[0, 1, 2, 3, 4, 5, 6, 7, 8, 9, 10, 11, 12, 13, 14, 15, 16, 17, 18, 19]\n"
     ]
    }
   ],
   "source": [
    "#print item using range\n",
    "number = range(20)\n",
    "\n",
    "print(list(number))"
   ]
  },
  {
   "cell_type": "code",
   "execution_count": 6,
   "metadata": {},
   "outputs": [
    {
     "name": "stdout",
     "output_type": "stream",
     "text": [
      "[15, 11, -15, 2, 18]\n"
     ]
    }
   ],
   "source": [
    "#print random number from a range\n",
    "\n",
    "import random\n",
    "length=5\n",
    "randomnumber =  random.sample(range(-20, 20),length)\n",
    "print(randomnumber)"
   ]
  },
  {
   "cell_type": "code",
   "execution_count": 7,
   "metadata": {},
   "outputs": [
    {
     "name": "stdout",
     "output_type": "stream",
     "text": [
      "['my', 'cat', 'is', 'a', 'jerk']\n"
     ]
    }
   ],
   "source": [
    "#make a word list\n",
    "myword = ['my','cat','is','a','jerk']\n",
    "print(myword)"
   ]
  },
  {
   "cell_type": "code",
   "execution_count": 8,
   "metadata": {},
   "outputs": [
    {
     "name": "stdout",
     "output_type": "stream",
     "text": [
      "[['my', 'cat', 'is', 'a', 'jerk'], [1, 2, 3, 4, 5, 6], ['ozzy', 'man', 'review'], range(0, 5)]\n"
     ]
    }
   ],
   "source": [
    "#create a list of lists\n",
    "bunchofword = [myword, ints, ['ozzy','man','review'], range(5)]\n",
    "print (bunchofword)"
   ]
  },
  {
   "cell_type": "code",
   "execution_count": 10,
   "metadata": {},
   "outputs": [
    {
     "name": "stdout",
     "output_type": "stream",
     "text": [
      "['my', 'cat', 'is', 'a', 'jerk', 1, 2, 3, 4, 5, 6]\n"
     ]
    }
   ],
   "source": [
    "newbunchofwordlist= myword + ints\n",
    "print(newbunchofwordlist)"
   ]
  },
  {
   "cell_type": "code",
   "execution_count": 11,
   "metadata": {},
   "outputs": [
    {
     "data": {
      "text/plain": [
       "['fara', 'said', 'my', 'cat', 'is', 'a', 'jerk']"
      ]
     },
     "execution_count": 11,
     "metadata": {},
     "output_type": "execute_result"
    }
   ],
   "source": [
    "#add values to the start of a list without changing the list or saving the output\n",
    "['fara','said'] + myword"
   ]
  },
  {
   "cell_type": "code",
   "execution_count": 12,
   "metadata": {},
   "outputs": [
    {
     "data": {
      "text/plain": [
       "['my', 'cat', 'is', 'a', 'jerk', 'too']"
      ]
     },
     "execution_count": 12,
     "metadata": {},
     "output_type": "execute_result"
    }
   ],
   "source": [
    "#add values to the end of the list\n",
    "myword + ['too']"
   ]
  },
  {
   "cell_type": "code",
   "execution_count": 13,
   "metadata": {},
   "outputs": [
    {
     "name": "stdout",
     "output_type": "stream",
     "text": [
      "['fara', 'said', 'my', 'cat', 'is', 'a', 'jerk']\n"
     ]
    }
   ],
   "source": [
    "#add values to the list and saving the output\n",
    "myanotherword = ['fara','said'] + myword\n",
    "print (myanotherword)"
   ]
  },
  {
   "cell_type": "code",
   "execution_count": 14,
   "metadata": {},
   "outputs": [
    {
     "name": "stdout",
     "output_type": "stream",
     "text": [
      "['my', 'cat', 'is', 'a', 'jerk', 1, 2, 3, 4, 5, 6, 7, 'hell yeah!!!']\n"
     ]
    }
   ],
   "source": [
    "#use \".append\" to add items to the end of a list and saving\n",
    "\n",
    "newbunchofwordlist.append(7)\n",
    "newbunchofwordlist.append('hell yeah!!!')\n",
    "\n",
    "print(newbunchofwordlist)"
   ]
  },
  {
   "cell_type": "code",
   "execution_count": 16,
   "metadata": {},
   "outputs": [
    {
     "name": "stdout",
     "output_type": "stream",
     "text": [
      "['my', 'cat', 'is', 'a', 'jerk']\n",
      "This list is of length 5\n",
      "Cell 0 contains the word: my\n",
      "Cell 1 contains the word: cat\n",
      "Cell 2 contains the word: is\n",
      "Cell 3 contains the word: a\n",
      "Cell 4 contains the word: jerk\n"
     ]
    }
   ],
   "source": [
    "#checking index of a list\n",
    "print(myword)\n",
    "print('This list is of length', len(myword))\n",
    "print('Cell 0 contains the word:', myword[0])\n",
    "print('Cell 1 contains the word:', myword[1])\n",
    "print('Cell 2 contains the word:', myword[2])\n",
    "print('Cell 3 contains the word:', myword[3])\n",
    "print('Cell 4 contains the word:', myword[4])"
   ]
  },
  {
   "cell_type": "code",
   "execution_count": 18,
   "metadata": {},
   "outputs": [
    {
     "name": "stdout",
     "output_type": "stream",
     "text": [
      "['every', 'cat', 'is', 'a', 'jerk']\n"
     ]
    }
   ],
   "source": [
    "# change a specific value in a list using its index\n",
    "\n",
    "myword[0] = 'every'\n",
    "\n",
    "print(myword)"
   ]
  },
  {
   "cell_type": "code",
   "execution_count": 20,
   "metadata": {},
   "outputs": [],
   "source": [
    "#BASIC LOOPS"
   ]
  },
  {
   "cell_type": "code",
   "execution_count": 21,
   "metadata": {},
   "outputs": [
    {
     "name": "stdout",
     "output_type": "stream",
     "text": [
      "0\n",
      "1\n",
      "2\n",
      "3\n",
      "4\n",
      "5\n",
      "6\n",
      "7\n",
      "8\n",
      "9\n"
     ]
    }
   ],
   "source": [
    "#Make a loop that goes through all values in a given list and print\n",
    "for i in range (10):\n",
    "    print (i)"
   ]
  },
  {
   "cell_type": "code",
   "execution_count": 33,
   "metadata": {},
   "outputs": [
    {
     "name": "stdout",
     "output_type": "stream",
     "text": [
      "5\n",
      "6\n",
      "7\n",
      "8\n",
      "9\n",
      "10\n",
      "11\n",
      "12\n",
      "13\n",
      "14\n"
     ]
    }
   ],
   "source": [
    "#Make a loop that adds 10 to every number in a given range\n",
    "for i in range (10):\n",
    "    print(i+5)"
   ]
  },
  {
   "cell_type": "code",
   "execution_count": 34,
   "metadata": {},
   "outputs": [
    {
     "name": "stdout",
     "output_type": "stream",
     "text": [
      "0.5\n",
      "2.5\n",
      "3.5\n",
      "10.0\n"
     ]
    }
   ],
   "source": [
    "#loop over a list of numbers\n",
    "\n",
    "for i in [1.,5.,7.,20.]:\n",
    "    print(i/2)"
   ]
  },
  {
   "cell_type": "code",
   "execution_count": 36,
   "metadata": {},
   "outputs": [
    {
     "name": "stdout",
     "output_type": "stream",
     "text": [
      "fara\n",
      "said\n",
      "my\n",
      "cat\n",
      "is\n",
      "a\n",
      "jerk\n"
     ]
    }
   ],
   "source": [
    "#looping over a list of numbers in a given size\n",
    "for i in range(len(myanotherword)):\n",
    "    print(myanotherword[i])"
   ]
  },
  {
   "cell_type": "code",
   "execution_count": 37,
   "metadata": {},
   "outputs": [
    {
     "name": "stdout",
     "output_type": "stream",
     "text": [
      "[0, 5, 10, 15, 20]\n"
     ]
    }
   ],
   "source": [
    "#Make a loop that adds values to a list\n",
    "looplist = [] #if you dont have an existing list ady, need to define an empty list\n",
    "\n",
    "for i in range (5):\n",
    "    looplist.append(i*5)\n",
    "    \n",
    "print(looplist)"
   ]
  },
  {
   "cell_type": "code",
   "execution_count": 38,
   "metadata": {},
   "outputs": [
    {
     "name": "stdout",
     "output_type": "stream",
     "text": [
      "[0, 500, 1000, 1500, 2000, 'every', 'cat', 'is', 'a', 'jerk']\n"
     ]
    }
   ],
   "source": [
    "#make another loop that multiples the numbers by 100 and adds string from a different list\n",
    "\n",
    "for i in range (len(looplist)):\n",
    "    looplist[i]=looplist[i]*100\n",
    "    looplist.append(myword[i])\n",
    "    \n",
    "print(looplist)"
   ]
  },
  {
   "cell_type": "code",
   "execution_count": 58,
   "metadata": {},
   "outputs": [],
   "source": [
    "#DEFINING SIMPLE CONDITIONS"
   ]
  },
  {
   "cell_type": "code",
   "execution_count": 42,
   "metadata": {},
   "outputs": [
    {
     "name": "stdout",
     "output_type": "stream",
     "text": [
      "X is fakin way bigger than 3\n"
     ]
    }
   ],
   "source": [
    "x = 5\n",
    "if x > 3:\n",
    "    print('X is fakin way bigger than 3')\n",
    "else:\n",
    "    print('X is faking smoller that 3')"
   ]
  },
  {
   "cell_type": "code",
   "execution_count": 53,
   "metadata": {},
   "outputs": [
    {
     "name": "stdout",
     "output_type": "stream",
     "text": [
      "X is the fakin same with 5\n"
     ]
    }
   ],
   "source": [
    "#using else if, \"elif\"\n",
    "x = 5\n",
    "\n",
    "if x > 5:\n",
    "    print('X is fakin way bigger than 5')\n",
    "#elif x > :\n",
    "    #print('X is fakin way bigger than 6')\n",
    "elif x == 5:\n",
    "    print('X is the fakin same with 5')\n",
    "else:\n",
    "    print('X is fakin way smoller than 4')"
   ]
  },
  {
   "cell_type": "code",
   "execution_count": 56,
   "metadata": {},
   "outputs": [
    {
     "name": "stdout",
     "output_type": "stream",
     "text": [
      "the number 0 is way fakin smaller than 5\n",
      "the number 1 is way fakin smaller than 5\n",
      "the number 2 is way fakin smaller than 5\n",
      "the number 3 is way fakin smaller than 5\n",
      "the number 4 is way fakin smaller than 5\n",
      "the number 5 is the fakin same with 5(YIIHA)\n",
      "the number 6 is way fakin bigger than 5\n",
      "the number 7 is way fakin bigger than 5\n",
      "the number 8 is way fakin bigger than 5\n",
      "the number 9 is way fakin bigger than 5\n"
     ]
    }
   ],
   "source": [
    "#combine loops and if statements \n",
    "for number in range (10):\n",
    "    if number < 5:\n",
    "        print('the number', number, 'is way fakin smaller than 5')\n",
    "    elif number == 5:\n",
    "        print('the number', number, 'is the fakin same with 5(YIIHA)')\n",
    "    else:\n",
    "        print('the number', number, 'is way fakin bigger than 5')"
   ]
  },
  {
   "cell_type": "code",
   "execution_count": 57,
   "metadata": {},
   "outputs": [
    {
     "name": "stdout",
     "output_type": "stream",
     "text": [
      "my\n",
      "cat\n",
      "is\n",
      "a\n",
      "jerk\n",
      " these are fakin numbers \n",
      " these are fakin numbers \n",
      " these are fakin numbers \n",
      " these are fakin numbers \n",
      " these are fakin numbers \n",
      " these are fakin numbers \n",
      " these are fakin numbers \n",
      "hell yeah!!!\n"
     ]
    }
   ],
   "source": [
    "for word in newbunchofwordlist:\n",
    "    if type(word) ==  int:\n",
    "        print(' these are fakin numbers ')\n",
    "    else:\n",
    "        print(word)"
   ]
  },
  {
   "cell_type": "code",
   "execution_count": 59,
   "metadata": {},
   "outputs": [],
   "source": [
    "#DEFINING  SIMPLE FUNCTIONS"
   ]
  },
  {
   "cell_type": "code",
   "execution_count": 78,
   "metadata": {},
   "outputs": [
    {
     "data": {
      "text/plain": [
       "(101, 202)"
      ]
     },
     "execution_count": 78,
     "metadata": {},
     "output_type": "execute_result"
    }
   ],
   "source": [
    "#Create a function called \"func\" that adds 1 to a given number i\n",
    "\n",
    "def func(i,j):\n",
    "    return i+1,j+2\n",
    "#call the function\n",
    "func(100,200)"
   ]
  },
  {
   "cell_type": "code",
   "execution_count": 64,
   "metadata": {},
   "outputs": [
    {
     "data": {
      "text/plain": [
       "[5, 10, 15, 20, 25]"
      ]
     },
     "execution_count": 64,
     "metadata": {},
     "output_type": "execute_result"
    }
   ],
   "source": [
    "#create a function called \"myfakinfunc\" that multiplies a list of numbers by 5\n",
    "def myfakinfunc(numlist):\n",
    "    newvalues = []\n",
    "    for i in numlist:\n",
    "        newvalues.append(i*5)\n",
    "    return newvalues\n",
    "#now call the function\n",
    "myfakinfunc([1,2,3,4,5])"
   ]
  },
  {
   "cell_type": "code",
   "execution_count": 72,
   "metadata": {},
   "outputs": [
    {
     "data": {
      "text/plain": [
       "'your list is not faking enaf'"
      ]
     },
     "execution_count": 72,
     "metadata": {},
     "output_type": "execute_result"
    }
   ],
   "source": [
    "#Define a function called \"listfunc\" that returns the value in the third cell of any list\n",
    "def listfunc(mylist):\n",
    "    if len(mylist) >= 10:\n",
    "        return mylist[5]\n",
    "    else:\n",
    "        return 'your list is not faking enaf'\n",
    "#now, call again the function\n",
    "listfunc(myanotherword)"
   ]
  },
  {
   "cell_type": "code",
   "execution_count": 73,
   "metadata": {},
   "outputs": [
    {
     "name": "stdout",
     "output_type": "stream",
     "text": [
      "[0, 5, 10, 15, 20, 25, 30, 35, 40, 45, 50, 55, 60, 65, 70, 75, 80, 85, 90, 95]\n"
     ]
    }
   ],
   "source": [
    "#save the function output to a variable\n",
    "results = myfakinfunc(range(20))\n",
    "print(results)"
   ]
  },
  {
   "cell_type": "code",
   "execution_count": 79,
   "metadata": {},
   "outputs": [
    {
     "name": "stdout",
     "output_type": "stream",
     "text": [
      "(21, 32)\n"
     ]
    }
   ],
   "source": [
    "#save 2 output results from a function\n",
    "results2 = func(20,30)\n",
    "print(results2)"
   ]
  },
  {
   "cell_type": "code",
   "execution_count": 82,
   "metadata": {},
   "outputs": [
    {
     "name": "stdout",
     "output_type": "stream",
     "text": [
      "[25, 50, 75, 100]\n",
      "62.5\n"
     ]
    }
   ],
   "source": [
    "# Create a function called \"twofakinfunc\" that gives back two things\n",
    "\n",
    "def twofakinfunc(anotherlist):\n",
    "    values1=[]\n",
    "    for i in anotherlist:\n",
    "        values1.append(i*5)\n",
    "    mean = sum(values1)/len(values1)\n",
    "    return values1, mean\n",
    "\n",
    "#yet again, call the fakin function! for god sake call it!\n",
    "\n",
    "out1, out2 = twofakinfunc([5,10,15,20])\n",
    "\n",
    "print(out1)\n",
    "print(out2)"
   ]
  },
  {
   "cell_type": "code",
   "execution_count": null,
   "metadata": {},
   "outputs": [],
   "source": [
    "#END OF LEARNING FUNDAMENTALS OF PYTHON! ---- probably XD"
   ]
  }
 ],
 "metadata": {
  "kernelspec": {
   "display_name": "Python 3",
   "language": "python",
   "name": "python3"
  },
  "language_info": {
   "codemirror_mode": {
    "name": "ipython",
    "version": 3
   },
   "file_extension": ".py",
   "mimetype": "text/x-python",
   "name": "python",
   "nbconvert_exporter": "python",
   "pygments_lexer": "ipython3",
   "version": "3.7.4"
  }
 },
 "nbformat": 4,
 "nbformat_minor": 2
}
