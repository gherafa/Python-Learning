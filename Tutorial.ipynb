{
 "cells": [
  {
   "cell_type": "markdown",
   "id": "cfdd24a0",
   "metadata": {},
   "source": [
    "# Variables and Data Types"
   ]
  },
  {
   "cell_type": "code",
   "execution_count": null,
   "id": "d71210a1",
   "metadata": {},
   "outputs": [],
   "source": [
    "int 0\n",
    "str \"Python\", \"Tutorial\"\n",
    "float 0.01, 0.325 \n",
    "bool True,False\n",
    "#### -> comment "
   ]
  },
  {
   "cell_type": "code",
   "execution_count": null,
   "id": "534f951c",
   "metadata": {},
   "outputs": [],
   "source": [
    "bool(1),bool(0)"
   ]
  },
  {
   "cell_type": "code",
   "execution_count": null,
   "id": "0a9eb50c",
   "metadata": {},
   "outputs": [],
   "source": [
    "int(0),str(\"0\"),float(0.01)"
   ]
  },
  {
   "cell_type": "code",
   "execution_count": null,
   "id": "e2e9cdb7",
   "metadata": {},
   "outputs": [],
   "source": [
    "x = 6\n",
    "y = 2\n",
    "Name = 'This '\n",
    "name = 'is '\n",
    "NAME = 'Python '\n",
    "namE = 'Tutorial'"
   ]
  },
  {
   "cell_type": "code",
   "execution_count": null,
   "id": "36ecf907",
   "metadata": {},
   "outputs": [],
   "source": [
    "print(x)\n",
    "print(y)\n",
    "print(Name)\n",
    "print(name)\n",
    "print(NAME)\n",
    "print(namE)"
   ]
  },
  {
   "cell_type": "markdown",
   "id": "32ee2c7d",
   "metadata": {},
   "source": [
    "# Input and Operators"
   ]
  },
  {
   "cell_type": "code",
   "execution_count": 9,
   "id": "12af509a",
   "metadata": {
    "scrolled": true
   },
   "outputs": [
    {
     "name": "stdout",
     "output_type": "stream",
     "text": [
      "What is Your name?\n",
      "G\n",
      "Hello G, welcome to this Python Tutorial :)\n",
      "Hello G, welcome to this Python Tutorial :)\n"
     ]
    }
   ],
   "source": [
    "print('What is Your name?')\n",
    "Input_name = input('')\n",
    "print(\"Hello {}, welcome to this Python Tutorial :)\".format(Input_name))\n",
    "print(\"Hello \" +str(Input_name)+\", welcome to this Python Tutorial :)\")"
   ]
  },
  {
   "cell_type": "raw",
   "id": "d47911ae",
   "metadata": {},
   "source": [
    "+ - / *\n",
    "// % ** "
   ]
  },
  {
   "cell_type": "code",
   "execution_count": null,
   "id": "f24da7d1",
   "metadata": {},
   "outputs": [],
   "source": [
    "x = 7\n",
    "y = 2\n",
    "\n",
    "print(x+y)\n",
    "print(x-y)\n",
    "print(x*y)\n",
    "print(x/y)\n",
    "print(x**y)\n",
    "print(x//y)\n",
    "print(x % y)"
   ]
  },
  {
   "cell_type": "code",
   "execution_count": null,
   "id": "a0057546",
   "metadata": {},
   "outputs": [],
   "source": [
    "print('Enter a number: ')\n",
    "num1 = input()\n",
    "print('Enter another number: ')\n",
    "num2 = input()\n",
    "\n",
    "Sum = num1 + num2\n",
    "print(Sum)\n",
    "print(type(num1))\n",
    "SUM = int(num1)+int(num2)\n",
    "print(\"Result = \", SUM)"
   ]
  },
  {
   "cell_type": "markdown",
   "id": "43308049",
   "metadata": {},
   "source": [
    "# Conditions"
   ]
  },
  {
   "cell_type": "raw",
   "id": "ecf251d2",
   "metadata": {},
   "source": [
    "< bigger\n",
    "> smaller\n",
    "== equal\n",
    "!= not equal"
   ]
  },
  {
   "cell_type": "code",
   "execution_count": 5,
   "id": "3e105313",
   "metadata": {},
   "outputs": [
    {
     "name": "stdout",
     "output_type": "stream",
     "text": [
      "True\n",
      "False\n",
      "True\n",
      "False\n",
      "True\n"
     ]
    }
   ],
   "source": [
    "print(5 > 2)\n",
    "print(5 < 5)\n",
    "print('Python' == 'Python')\n",
    "print('python' == 'Python')\n",
    "print(5 != 2)"
   ]
  },
  {
   "cell_type": "code",
   "execution_count": null,
   "id": "44466f27",
   "metadata": {},
   "outputs": [],
   "source": [
    "if condition == True:\n",
    "    do this\n",
    "elif:\n",
    "    do that\n",
    "else:\n",
    "    pass"
   ]
  },
  {
   "cell_type": "code",
   "execution_count": 19,
   "id": "e203f101",
   "metadata": {},
   "outputs": [
    {
     "name": "stdout",
     "output_type": "stream",
     "text": [
      "Enter your weight: 50\n",
      "Good Job!\n"
     ]
    }
   ],
   "source": [
    "weight = int(input('Enter your weight: '))\n",
    "\n",
    "if weight < 40:\n",
    "    print('Excuse me but, are you allright?')\n",
    "elif weight > 80:\n",
    "    print('Perhaps, you need to holdback from something, eating maybe :)')\n",
    "else:\n",
    "    print('Good Job!')"
   ]
  },
  {
   "cell_type": "code",
   "execution_count": 39,
   "id": "31678381",
   "metadata": {},
   "outputs": [
    {
     "name": "stdout",
     "output_type": "stream",
     "text": [
      "True\n",
      "True\n"
     ]
    }
   ],
   "source": [
    "x = 5\n",
    "y = 2\n",
    "z = 3\n",
    "\n",
    "if x == y or x%2 == 1:\n",
    "    print('True')\n",
    "if x != z and z%2 ==1:\n",
    "    print('True')"
   ]
  },
  {
   "cell_type": "markdown",
   "id": "ada08a34",
   "metadata": {},
   "source": [
    "# Loops"
   ]
  },
  {
   "cell_type": "raw",
   "id": "645ac671",
   "metadata": {},
   "source": [
    "for i in range(10): #in a range to 10, 0,1,2,3,...,10\n",
    "\n",
    "for x in range(0, 10): #in range from 0 to 10\n",
    "\n",
    "for try in range(0, 10, 2): #in range from 0 to 10 with a step of 2"
   ]
  },
  {
   "cell_type": "code",
   "execution_count": 46,
   "id": "d778d3d9",
   "metadata": {},
   "outputs": [
    {
     "name": "stdout",
     "output_type": "stream",
     "text": [
      "0\n",
      "2\n",
      "4\n",
      "6\n",
      "8\n"
     ]
    }
   ],
   "source": [
    "for i in range(0,10,2):\n",
    "    print(i)"
   ]
  },
  {
   "cell_type": "code",
   "execution_count": 48,
   "id": "29674fa7",
   "metadata": {},
   "outputs": [
    {
     "name": "stdout",
     "output_type": "stream",
     "text": [
      "odd\n",
      "even\n",
      "odd\n",
      "even\n",
      "odd\n"
     ]
    }
   ],
   "source": [
    "x=[1,2,3,4,5]\n",
    "for i in range(len(x)):\n",
    "    if x[i]%2 ==0:\n",
    "        print('even')\n",
    "    else:\n",
    "        print('odd')"
   ]
  },
  {
   "cell_type": "raw",
   "id": "b691a0f8",
   "metadata": {},
   "source": [
    "while condition == True:\n",
    "    do this"
   ]
  },
  {
   "cell_type": "code",
   "execution_count": 58,
   "id": "f77ec527",
   "metadata": {},
   "outputs": [
    {
     "name": "stdout",
     "output_type": "stream",
     "text": [
      "Enter the keyword to break the infinity loop :please stop\n",
      "Congratulations, you break the loop :)\n"
     ]
    }
   ],
   "source": [
    "loop_condition = True\n",
    "\n",
    "while loop_condition:\n",
    "    keyword = input('Enter the keyword to break the infinity loop :')\n",
    "    if keyword == 'please stop':\n",
    "        print('Congratulations, you break the loop :)')\n",
    "        loop_condition = False    "
   ]
  },
  {
   "cell_type": "markdown",
   "id": "9e21977b",
   "metadata": {},
   "source": [
    "# Lists and Tuples"
   ]
  },
  {
   "cell_type": "code",
   "execution_count": 66,
   "id": "cd9f3f62",
   "metadata": {},
   "outputs": [
    {
     "name": "stdout",
     "output_type": "stream",
     "text": [
      "['This', 'is', 'Python', 'Tutorial']\n",
      "is\n"
     ]
    }
   ],
   "source": [
    "word_list = ['This','is','Python','Tutorial']\n",
    "print(word_list)\n",
    "print(word_list[1])"
   ]
  },
  {
   "cell_type": "code",
   "execution_count": 67,
   "id": "681bd442",
   "metadata": {},
   "outputs": [
    {
     "name": "stdout",
     "output_type": "stream",
     "text": [
      "['This', 'is', 'Python', 'Tutorial', 'For You']\n"
     ]
    }
   ],
   "source": [
    "word_list.append('For You')\n",
    "print(word_list)"
   ]
  },
  {
   "cell_type": "code",
   "execution_count": 68,
   "id": "8a4a5f41",
   "metadata": {},
   "outputs": [
    {
     "name": "stdout",
     "output_type": "stream",
     "text": [
      "['This', 'Python', 'Tutorial', 'For You']\n",
      "['This', 'Tutorial', 'For You']\n"
     ]
    }
   ],
   "source": [
    "word_list.pop(1)\n",
    "print(word_list)\n",
    "word_list.remove('Python')\n",
    "print(word_list)"
   ]
  },
  {
   "cell_type": "code",
   "execution_count": 2,
   "id": "bd8a582c",
   "metadata": {},
   "outputs": [
    {
     "name": "stdout",
     "output_type": "stream",
     "text": [
      "3\n"
     ]
    }
   ],
   "source": [
    "word_tuple = (1,2,3,4,5)\n",
    "print(word_tuple[2])"
   ]
  },
  {
   "cell_type": "markdown",
   "id": "fa85367d",
   "metadata": {},
   "source": [
    "# For Loops through items"
   ]
  },
  {
   "cell_type": "code",
   "execution_count": 80,
   "id": "61823b1e",
   "metadata": {},
   "outputs": [
    {
     "name": "stdout",
     "output_type": "stream",
     "text": [
      "cola\n",
      "fanta\n",
      "sprite\n",
      "finto\n"
     ]
    }
   ],
   "source": [
    "drinks = ['cola','fanta','sprite','finto']\n",
    "\n",
    "for drink in drinks:\n",
    "    print(drink)"
   ]
  },
  {
   "cell_type": "code",
   "execution_count": 81,
   "id": "96d072ec",
   "metadata": {},
   "outputs": [
    {
     "name": "stdout",
     "output_type": "stream",
     "text": [
      "soda\n",
      "soda\n",
      "soda\n",
      "ahh, my favorite drink :)\n"
     ]
    }
   ],
   "source": [
    "for drink in drinks:\n",
    "    if drink == 'finto':\n",
    "        print('ahh, my favorite drink :)')\n",
    "    else:\n",
    "        print('soda')"
   ]
  },
  {
   "cell_type": "code",
   "execution_count": 82,
   "id": "e9c3240e",
   "metadata": {},
   "outputs": [
    {
     "name": "stdout",
     "output_type": "stream",
     "text": [
      "soda\n",
      "soda\n",
      "soda\n",
      "ahh, my favorite drink :)\n"
     ]
    }
   ],
   "source": [
    "for i in range(0,4):\n",
    "    if drinks[i] == 'finto':\n",
    "        print('ahh, my favorite drink :)')\n",
    "    else:\n",
    "        print('soda')"
   ]
  },
  {
   "cell_type": "markdown",
   "id": "57d35dd9",
   "metadata": {},
   "source": [
    "# Function"
   ]
  },
  {
   "cell_type": "code",
   "execution_count": 83,
   "id": "a10b6916",
   "metadata": {},
   "outputs": [],
   "source": [
    "def function(params):\n",
    "    statement"
   ]
  },
  {
   "cell_type": "code",
   "execution_count": 93,
   "id": "2f048799",
   "metadata": {},
   "outputs": [],
   "source": [
    "def do_something():\n",
    "    return print(\"A Forced hello :)\")\n",
    "\n",
    "def plus5(number):\n",
    "    result = number + 5\n",
    "    return result\n",
    "\n",
    "def minus5(number):\n",
    "    result = number - 5\n",
    "    return result\n",
    "\n",
    "def multiply(x,y):\n",
    "    result = x*y\n",
    "    return result\n",
    "\n",
    "def divide(x,y):\n",
    "    result = x/y\n",
    "    return result"
   ]
  },
  {
   "cell_type": "code",
   "execution_count": 95,
   "id": "d99cc2cf",
   "metadata": {},
   "outputs": [
    {
     "name": "stdout",
     "output_type": "stream",
     "text": [
      "A Forced hi :)\n"
     ]
    }
   ],
   "source": [
    "do_something()"
   ]
  },
  {
   "cell_type": "markdown",
   "id": "0a644038",
   "metadata": {},
   "source": [
    "# Read and Write File"
   ]
  },
  {
   "cell_type": "markdown",
   "id": "62242582",
   "metadata": {},
   "source": [
    "## Read File"
   ]
  },
  {
   "cell_type": "code",
   "execution_count": null,
   "id": "21bc0d29",
   "metadata": {},
   "outputs": [],
   "source": [
    "open_file = open('trial_file.txt','r') #(file_name, mode)"
   ]
  },
  {
   "cell_type": "code",
   "execution_count": 101,
   "id": "f528ca55",
   "metadata": {},
   "outputs": [
    {
     "name": "stdout",
     "output_type": "stream",
     "text": [
      "['Hello\\n', 'This\\n', 'Is\\n', 'Python\\n', 'Tutorial']\n",
      "['Hello', 'This', 'Is', 'Python', 'Tutorial']\n"
     ]
    }
   ],
   "source": [
    "open_file = open('trial_file.txt','r')\n",
    "f = open_file.readlines()\n",
    "print(f)\n",
    "\n",
    "text_list = []\n",
    "for line in f:\n",
    "    if line[-1] == '\\n':\n",
    "        text_list.append(line[:-1])\n",
    "    else:\n",
    "        text_list.append(line)\n",
    "print(text_list)"
   ]
  },
  {
   "cell_type": "code",
   "execution_count": 111,
   "id": "0f01a6c3",
   "metadata": {},
   "outputs": [
    {
     "name": "stdout",
     "output_type": "stream",
     "text": [
      "          0\n",
      "0     Hello\n",
      "1      This\n",
      "2        Is\n",
      "3    Python\n",
      "4  Tutorial\n"
     ]
    }
   ],
   "source": [
    "import pandas as pd\n",
    "\n",
    "text_file = pd.read_csv('trial_file.txt', sep=\" \",header=None)\n",
    "print(text_file)"
   ]
  },
  {
   "cell_type": "markdown",
   "id": "e3dd60cf",
   "metadata": {},
   "source": [
    "## Write File"
   ]
  },
  {
   "cell_type": "code",
   "execution_count": 116,
   "id": "59dcb355",
   "metadata": {},
   "outputs": [],
   "source": [
    "text_file = open('trial_file1.txt','w')\n",
    "\n",
    "text_file.write('This is Python Tutorial')\n",
    "\n",
    "text_file.close()"
   ]
  },
  {
   "cell_type": "markdown",
   "id": "d959d76d",
   "metadata": {},
   "source": [
    "# Modular Programming"
   ]
  },
  {
   "cell_type": "code",
   "execution_count": 136,
   "id": "c49d15c6",
   "metadata": {},
   "outputs": [],
   "source": [
    "import trial_module\n",
    "import math"
   ]
  },
  {
   "cell_type": "code",
   "execution_count": 139,
   "id": "3360c8d9",
   "metadata": {},
   "outputs": [
    {
     "data": {
      "text/plain": [
       "1.0471975511965976"
      ]
     },
     "execution_count": 139,
     "metadata": {},
     "output_type": "execute_result"
    }
   ],
   "source": [
    "math.radians(60)"
   ]
  },
  {
   "cell_type": "markdown",
   "id": "86669b77",
   "metadata": {},
   "source": [
    "# Global and Local Variable"
   ]
  },
  {
   "cell_type": "code",
   "execution_count": 164,
   "id": "a46bb297",
   "metadata": {},
   "outputs": [],
   "source": [
    "number = 5\n",
    "names = 'Gheo'\n",
    "\n",
    "def function1(x):\n",
    "    #global names\n",
    "    \n",
    "    number = 7\n",
    "    names = 'Rahmat'\n",
    "    print(number,names)\n",
    "    if x==number:\n",
    "        return(print('Its a same Number'))\n",
    "    \n",
    "def function2():\n",
    "    number = 10\n",
    "    print(number)"
   ]
  },
  {
   "cell_type": "code",
   "execution_count": 165,
   "id": "dbedd0b1",
   "metadata": {},
   "outputs": [
    {
     "name": "stdout",
     "output_type": "stream",
     "text": [
      "5\n",
      "7 Rahmat\n",
      "10\n",
      "Gheo\n"
     ]
    }
   ],
   "source": [
    "print(number)\n",
    "function1(2)\n",
    "function2()\n",
    "#print(names)"
   ]
  },
  {
   "cell_type": "markdown",
   "id": "84f86cbf",
   "metadata": {},
   "source": [
    "# Classes and Objects"
   ]
  },
  {
   "cell_type": "code",
   "execution_count": 171,
   "id": "28c365d1",
   "metadata": {},
   "outputs": [],
   "source": [
    "name = 'Gheo'\n",
    "number = 14"
   ]
  },
  {
   "cell_type": "code",
   "execution_count": 172,
   "id": "ef0f02ec",
   "metadata": {},
   "outputs": [
    {
     "ename": "AttributeError",
     "evalue": "'int' object has no attribute 'count'",
     "output_type": "error",
     "traceback": [
      "\u001b[1;31m---------------------------------------------------------------------------\u001b[0m",
      "\u001b[1;31mAttributeError\u001b[0m                            Traceback (most recent call last)",
      "\u001b[1;32m<ipython-input-172-fb9733ad2709>\u001b[0m in \u001b[0;36m<module>\u001b[1;34m\u001b[0m\n\u001b[1;32m----> 1\u001b[1;33m \u001b[0mnumber\u001b[0m\u001b[1;33m.\u001b[0m\u001b[0mcount\u001b[0m\u001b[1;33m(\u001b[0m\u001b[1;34m'1'\u001b[0m\u001b[1;33m)\u001b[0m\u001b[1;33m\u001b[0m\u001b[1;33m\u001b[0m\u001b[0m\n\u001b[0m",
      "\u001b[1;31mAttributeError\u001b[0m: 'int' object has no attribute 'count'"
     ]
    }
   ],
   "source": [
    "number.count('1')"
   ]
  },
  {
   "cell_type": "code",
   "execution_count": 185,
   "id": "87307b7f",
   "metadata": {},
   "outputs": [
    {
     "data": {
      "text/plain": [
       "'Gheo'"
      ]
     },
     "execution_count": 185,
     "metadata": {},
     "output_type": "execute_result"
    }
   ],
   "source": [
    "class names():\n",
    "    def __init__(self,name2):\n",
    "        self.name = 'Gheo'\n",
    "        self.name2 = name2\n",
    "        name3 = 'Fauzi'\n",
    "        \n",
    "    def display_name(self,x):\n",
    "        print(x)\n",
    "\n",
    "NAME = names('Rahmat')\n",
    "NAME.name"
   ]
  },
  {
   "cell_type": "code",
   "execution_count": 181,
   "id": "16a5918c",
   "metadata": {},
   "outputs": [
    {
     "name": "stdout",
     "output_type": "stream",
     "text": [
      "Rahmat\n"
     ]
    }
   ],
   "source": [
    "NAME.display_name(NAME.name2)"
   ]
  },
  {
   "cell_type": "code",
   "execution_count": 187,
   "id": "5c73de42",
   "metadata": {},
   "outputs": [
    {
     "data": {
      "text/plain": [
       "'Rahmat'"
      ]
     },
     "execution_count": 187,
     "metadata": {},
     "output_type": "execute_result"
    }
   ],
   "source": [
    "NAME.name2"
   ]
  },
  {
   "cell_type": "code",
   "execution_count": 188,
   "id": "3d8cae96",
   "metadata": {},
   "outputs": [
    {
     "ename": "AttributeError",
     "evalue": "'names' object has no attribute 'name3'",
     "output_type": "error",
     "traceback": [
      "\u001b[1;31m---------------------------------------------------------------------------\u001b[0m",
      "\u001b[1;31mAttributeError\u001b[0m                            Traceback (most recent call last)",
      "\u001b[1;32m<ipython-input-188-5a4094722a76>\u001b[0m in \u001b[0;36m<module>\u001b[1;34m\u001b[0m\n\u001b[1;32m----> 1\u001b[1;33m \u001b[0mNAME\u001b[0m\u001b[1;33m.\u001b[0m\u001b[0mname3\u001b[0m\u001b[1;33m\u001b[0m\u001b[1;33m\u001b[0m\u001b[0m\n\u001b[0m",
      "\u001b[1;31mAttributeError\u001b[0m: 'names' object has no attribute 'name3'"
     ]
    }
   ],
   "source": [
    "NAME.name3"
   ]
  },
  {
   "cell_type": "code",
   "execution_count": null,
   "id": "9c7b3ec3",
   "metadata": {},
   "outputs": [],
   "source": []
  }
 ],
 "metadata": {
  "kernelspec": {
   "display_name": "Python 3",
   "language": "python",
   "name": "python3"
  },
  "language_info": {
   "codemirror_mode": {
    "name": "ipython",
    "version": 3
   },
   "file_extension": ".py",
   "mimetype": "text/x-python",
   "name": "python",
   "nbconvert_exporter": "python",
   "pygments_lexer": "ipython3",
   "version": "3.8.8"
  }
 },
 "nbformat": 4,
 "nbformat_minor": 5
}
